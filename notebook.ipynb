{
 "cells": [
  {
   "cell_type": "code",
   "execution_count": 1,
   "id": "f1e670cf-7f73-4dc9-aedd-157f7058a275",
   "metadata": {},
   "outputs": [],
   "source": [
    "from pyspark.sql import SparkSession\n",
    "spark = SparkSession.builder.appName('basicos').getOrCreate()"
   ]
  },
  {
   "cell_type": "code",
   "execution_count": 2,
   "id": "b55b9b5c-8ac0-4bb9-a735-3432b479588b",
   "metadata": {},
   "outputs": [],
   "source": [
    "lista = [('alejandro', 22), ('alex', 60), ('rocio', 55), ('maria', 24)]\n",
    "rddfamily = spark.sparkContext.parallelize(lista)\n",
    "df = rddfamily.toDF()"
   ]
  },
  {
   "cell_type": "code",
   "execution_count": null,
   "id": "cf3940f7-eaaa-44f9-918e-d60b41e1bdc3",
   "metadata": {},
   "outputs": [],
   "source": [
    "#df.write.csv('hdfs://namenode:8020/family.csv')"
   ]
  },
  {
   "cell_type": "code",
   "execution_count": 10,
   "id": "b9748690-0059-465b-b466-596baa260303",
   "metadata": {},
   "outputs": [
    {
     "name": "stdout",
     "output_type": "stream",
     "text": [
      "+---------+---+\n",
      "|      _c0|_c1|\n",
      "+---------+---+\n",
      "|alejandro| 22|\n",
      "|     alex| 60|\n",
      "|    rocio| 55|\n",
      "|    maria| 24|\n",
      "+---------+---+\n",
      "\n"
     ]
    }
   ],
   "source": [
    "other = spark.read.csv('hdfs://namenode:8020/family.csv')\n",
    "other.show()"
   ]
  }
 ],
 "metadata": {
  "kernelspec": {
   "display_name": "Python 3",
   "language": "python",
   "name": "python3"
  },
  "language_info": {
   "codemirror_mode": {
    "name": "ipython",
    "version": 3
   },
   "file_extension": ".py",
   "mimetype": "text/x-python",
   "name": "python",
   "nbconvert_exporter": "python",
   "pygments_lexer": "ipython3",
   "version": "3.8.8"
  }
 },
 "nbformat": 4,
 "nbformat_minor": 5
}
