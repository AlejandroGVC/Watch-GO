{
 "cells": [
  {
   "cell_type": "code",
   "execution_count": 1,
   "id": "f1e670cf-7f73-4dc9-aedd-157f7058a275",
   "metadata": {},
   "outputs": [],
   "source": [
    "import pandas as pd \n",
    "from pyspark.sql import SparkSession, SQLContext\n",
    "from pyspark import SparkContext\n",
    "from pyspark.sql import functions as F\n",
    "spark = SparkSession.builder.appName('watchGo').getOrCreate()\n",
    "sqlContext = SQLContext(spark)\n",
    "\n",
    "import warnings\n",
    "warnings.filterwarnings(\"ignore\")"
   ]
  },
  {
   "cell_type": "code",
   "execution_count": 2,
   "id": "0dbf6f48-4efb-44a9-9177-c1f12d41bc09",
   "metadata": {},
   "outputs": [],
   "source": [
    "def df_hdfs_spark(str_, csv, transform = False):\n",
    "    '''\n",
    "    Lee unos datos, los guarda en ficheros de HDFS y devuelve un\n",
    "    dataframe de spark\n",
    "    Parámtros: un nombre para el .parquet y un csv. \n",
    "    El parámetro transform es especial para el fichero de filmaffinity\n",
    "    '''\n",
    "    if transform:\n",
    "        data = pd.read_csv('data/' + csv)\n",
    "        for i in range(len(data)):\n",
    "            data.iloc[i,1] = data.iloc[i,1].replace('[', '').replace(']', '').replace(\"\\'\", '').split(',')\n",
    "        df_spark = sqlContext.createDataFrame(data=data) #pd.dataframe --> spark\n",
    "    else:\n",
    "        df_spark = spark.read.format('csv').options(header = 'true').load('data/' + csv)\n",
    "    \n",
    "    path = 'hdfs://namenode:8020/datalake' + str_ + '.parquet'\n",
    "    df_spark.write.parquet(path, mode = 'overwrite') #spark --> hdfs  ojo con el parametro mode!!\n",
    "    return spark.read.parquet(path) #hdfs --> spark"
   ]
  },
  {
   "cell_type": "code",
   "execution_count": 10,
   "id": "b55b9b5c-8ac0-4bb9-a735-3432b479588b",
   "metadata": {},
   "outputs": [
    {
     "data": {
      "text/plain": [
       "[Row(Pelicula='4 días ', Cines=['Cines La Vaguada', ' Cinesa Las Rozas - Heron City', ' Cinesa Manoteras', ' Cinesa Méndez Álvaro', ' Conde Duque Auditorio Morasol', ' Kinépolis Madrid Ciudad de la Imagen', ' mk2 Palacio de Hielo (antiguos Cines Dreams)', ' Renoir Cines Princesa', ' Yelmo Cines Rivas H2O'])]"
      ]
     },
     "execution_count": 10,
     "metadata": {},
     "output_type": "execute_result"
    }
   ],
   "source": [
    "# Filmaffinity\n",
    "fm = df_hdfs_spark('fm', 'filmaffinity.csv', transform=True)\n",
    "fm.where(\"Pelicula like '%4 días%' \").collect()"
   ]
  },
  {
   "cell_type": "code",
   "execution_count": 9,
   "id": "60a44ff9-10e0-4181-860c-f0dbfc42777f",
   "metadata": {},
   "outputs": [
    {
     "name": "stdout",
     "output_type": "stream",
     "text": [
      "+----------+--------+--------------------+\n",
      "|Plataforma|    Tipo|              Titulo|\n",
      "+----------+--------+--------------------+\n",
      "|   netflix|   serie|     stranger things|\n",
      "|   netflix|pelicula|two distant stran...|\n",
      "|   netflix|   serie|        the stranger|\n",
      "+----------+--------+--------------------+\n",
      "\n"
     ]
    }
   ],
   "source": [
    "# Just Watch\n",
    "jw = df_hdfs_spark('jw', csv = 'just-watch.csv')\n",
    "jw.where('Titulo like \"%stranger%\"').show() "
   ]
  },
  {
   "cell_type": "code",
   "execution_count": 12,
   "id": "0d4b2cc2-5a3c-4a82-af6b-14f26bb749bc",
   "metadata": {},
   "outputs": [
    {
     "name": "stdout",
     "output_type": "stream",
     "text": [
      "+---------+--------------------+\n",
      "|    title|               genre|\n",
      "+---------+--------------------+\n",
      "|Inception|Action, Adventure...|\n",
      "+---------+--------------------+\n",
      "\n"
     ]
    }
   ],
   "source": [
    "# IMDb\n",
    "im = df_hdfs_spark('im', csv = 'IMDb movies.csv')\n",
    "im.select(['title', 'genre']).where('title like \"%Inception%\"').show()"
   ]
  },
  {
   "cell_type": "code",
   "execution_count": 41,
   "id": "99697bdf-6c04-4e1d-b3c3-1ffd16cf9354",
   "metadata": {},
   "outputs": [],
   "source": [
    "def search_movie(movie):\n",
    "    print(fm.where('Pelicula like \"%' + movie + '%\"').collect())\n",
    "    jw.where('Titulo like \"%' + movie + '%\"').show()\n",
    "    im.select(['title', 'genre']).where('title like \"%' + movie + '%\"').show()"
   ]
  },
  {
   "cell_type": "code",
   "execution_count": 43,
   "id": "ea315261-d906-441a-a425-a9c36637f53f",
   "metadata": {},
   "outputs": [
    {
     "name": "stdout",
     "output_type": "stream",
     "text": [
      "[]\n",
      "+----------+----+------+\n",
      "|Plataforma|Tipo|Titulo|\n",
      "+----------+----+------+\n",
      "+----------+----+------+\n",
      "\n",
      "+-----------------+--------------------+\n",
      "|            title|               genre|\n",
      "+-----------------+--------------------+\n",
      "|     Interstellar|Adventure, Drama,...|\n",
      "|Interstellar Wars|              Sci-Fi|\n",
      "+-----------------+--------------------+\n",
      "\n"
     ]
    }
   ],
   "source": [
    "search_movie('Interstellar')"
   ]
  },
  {
   "cell_type": "code",
   "execution_count": 44,
   "id": "f68bb64c-a808-4d35-9ed9-81b1edc5f536",
   "metadata": {},
   "outputs": [
    {
     "name": "stdout",
     "output_type": "stream",
     "text": [
      "[]\n",
      "+------------------+--------+------------+\n",
      "|        Plataforma|    Tipo|      Titulo|\n",
      "+------------------+--------+------------+\n",
      "|amazon-prime-video|pelicula|interstellar|\n",
      "|           netflix|pelicula|interstellar|\n",
      "|               hbo|pelicula|interstellar|\n",
      "+------------------+--------+------------+\n",
      "\n",
      "+-----+-----+\n",
      "|title|genre|\n",
      "+-----+-----+\n",
      "+-----+-----+\n",
      "\n"
     ]
    }
   ],
   "source": [
    "search_movie('interstellar')"
   ]
  },
  {
   "cell_type": "code",
   "execution_count": 9,
   "id": "63530794-7085-4cf0-96c3-bc958b39621f",
   "metadata": {},
   "outputs": [],
   "source": [
    "spark.stop()"
   ]
  },
  {
   "cell_type": "code",
   "execution_count": null,
   "id": "c7b3f140-bf88-4209-aded-7653ff3dc53e",
   "metadata": {},
   "outputs": [],
   "source": []
  }
 ],
 "metadata": {
  "kernelspec": {
   "display_name": "Python 3",
   "language": "python",
   "name": "python3"
  },
  "language_info": {
   "codemirror_mode": {
    "name": "ipython",
    "version": 3
   },
   "file_extension": ".py",
   "mimetype": "text/x-python",
   "name": "python",
   "nbconvert_exporter": "python",
   "pygments_lexer": "ipython3",
   "version": "3.8.8"
  }
 },
 "nbformat": 4,
 "nbformat_minor": 5
}
