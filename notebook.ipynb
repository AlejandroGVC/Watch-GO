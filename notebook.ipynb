{
 "cells": [
  {
   "cell_type": "code",
   "execution_count": 1,
   "id": "f1e670cf-7f73-4dc9-aedd-157f7058a275",
   "metadata": {},
   "outputs": [],
   "source": [
    "import pandas as pd \n",
    "from pyspark.sql import SparkSession, SQLContext\n",
    "from pyspark import SparkContext\n",
    "from pyspark.sql import functions as F\n",
    "spark = SparkSession.builder.appName('watchGo').getOrCreate()\n",
    "sqlContext = SQLContext(spark)"
   ]
  },
  {
   "cell_type": "code",
   "execution_count": 34,
   "id": "0dbf6f48-4efb-44a9-9177-c1f12d41bc09",
   "metadata": {},
   "outputs": [],
   "source": [
    "def df_hdfs_spark(data, nombre_csv):\n",
    "    '''\n",
    "    Crea un datafram de spark a partir de uno de pandas,\n",
    "    lo escribe en hdfs y lo vuelve a leer y guarda\n",
    "    '''\n",
    "    path = 'hdfs://namenode:8020/' + nombre_csv + '.parquet'\n",
    "    df_spark = sqlContext.createDataFrame(data=data) #pd.dataframe --> spark\n",
    "    df_spark.write.parquet(path, mode = 'overwrite') #spark --> hdfs  ojo con el parametro mode!!\n",
    "    return spark.read.parquet(path) #hdfs --> spark"
   ]
  },
  {
   "cell_type": "code",
   "execution_count": 12,
   "id": "b55b9b5c-8ac0-4bb9-a735-3432b479588b",
   "metadata": {},
   "outputs": [],
   "source": [
    "justwatch = pd.read_csv('data/justwatch.csv')\n",
    "#imdb = pd.read_csv('data/IMDb movies.csv')\n",
    "cartelera = pd.read_csv('data/cartelera.csv')"
   ]
  },
  {
   "cell_type": "code",
   "execution_count": 35,
   "id": "60a44ff9-10e0-4181-860c-f0dbfc42777f",
   "metadata": {},
   "outputs": [],
   "source": [
    "jw = df_hdfs_spark(justwatch, 'jw')"
   ]
  },
  {
   "cell_type": "code",
   "execution_count": 36,
   "id": "3e3b2382-eeea-41ab-91bd-37726376231a",
   "metadata": {},
   "outputs": [
    {
     "name": "stdout",
     "output_type": "stream",
     "text": [
      "+-----------+--------+--------------------+\n",
      "| Plataforma|    Tipo|              Titulo|\n",
      "+-----------+--------+--------------------+\n",
      "|disney-plus|pelicula|el imperio de los...|\n",
      "|disney-plus|   serie|     elena de avalor|\n",
      "|disney-plus|   serie| big hero 6 la serie|\n",
      "|disney-plus|pelicula|el cascanueces y ...|\n",
      "|disney-plus|pelicula|              flicka|\n",
      "|disney-plus|pelicula|  recess schools out|\n",
      "|disney-plus|pelicula|          magic camp|\n",
      "|disney-plus|pelicula|el regreso de los...|\n",
      "|disney-plus|   serie|mas muppets que n...|\n",
      "|disney-plus|   serie|las aventuras de ...|\n",
      "|disney-plus|pelicula|marvel construyen...|\n",
      "|disney-plus|pelicula|   black beauty 2020|\n",
      "|disney-plus|pelicula|    mighty joe young|\n",
      "|disney-plus|   serie|               raven|\n",
      "|disney-plus|pelicula|     el abismo negro|\n",
      "|disney-plus|   serie|gordons great escape|\n",
      "|disney-plus|   serie|the world accordi...|\n",
      "|disney-plus|pelicula|     nada que perder|\n",
      "|disney-plus|   serie|             mech x4|\n",
      "|disney-plus|pelicula|          12 trampas|\n",
      "+-----------+--------+--------------------+\n",
      "only showing top 20 rows\n",
      "\n"
     ]
    }
   ],
   "source": [
    "jw.show()"
   ]
  },
  {
   "cell_type": "code",
   "execution_count": 37,
   "id": "7e4cf67f-f5bd-4efe-b381-dafac90984ca",
   "metadata": {},
   "outputs": [
    {
     "name": "stdout",
     "output_type": "stream",
     "text": [
      "+----------+-----+---------------+\n",
      "|Plataforma| Tipo|         Titulo|\n",
      "+----------+-----+---------------+\n",
      "|   netflix|serie|stranger things|\n",
      "+----------+-----+---------------+\n",
      "\n"
     ]
    }
   ],
   "source": [
    "jw.filter(F.col('Titulo') == 'stranger things').show()"
   ]
  },
  {
   "cell_type": "code",
   "execution_count": 38,
   "id": "2728f1ab-15b9-43d9-be56-025dacfe6e3d",
   "metadata": {},
   "outputs": [],
   "source": [
    "cine = df_hdfs_spark(cartelera, 'cine')"
   ]
  },
  {
   "cell_type": "code",
   "execution_count": 39,
   "id": "0b433186-9dbf-4f02-a845-686c7da06509",
   "metadata": {},
   "outputs": [
    {
     "name": "stdout",
     "output_type": "stream",
     "text": [
      "+--------------------+--------------------+\n",
      "|            Pelicula|               Cines|\n",
      "+--------------------+--------------------+\n",
      "|      Mortal Kombat |['Cine Teatro Gus...|\n",
      "|Una joven promete...|['Cines Embajador...|\n",
      "|¡Upsss 2! ¿Y ahor...|['Cines Embajador...|\n",
      "|Una veterinaria e...|['Cines Embajador...|\n",
      "|Detective Conan: ...|['Cines La Vaguad...|\n",
      "|Crock of Gold: Be...|['Cines Verdi', '...|\n",
      "|       Natura Bizia |           ['Golem']|\n",
      "| Amanece en Calcuta |['Cines La Vaguad...|\n",
      "|       Palm Springs |                  []|\n",
      "|Zog y los doctore...|                  []|\n",
      "|         Otra ronda |['Cine Estudio (C...|\n",
      "|            Cuñados |['Cines La Vaguad...|\n",
      "|       I Care a Lot |['Kinépolis Madri...|\n",
      "| Guerra de mentiras |                  []|\n",
      "|            La nube |['Renoir Cines Pr...|\n",
      "|Uno cero uno, el ...|['Cines La Vaguada']|\n",
      "|               Vivo |['Cines La Vaguad...|\n",
      "| Ruega por nosotros |['Cines La Vaguad...|\n",
      "|Los Estados Unido...|['Cines Verdi', '...|\n",
      "|Digimon Adventure...|['Cines La Vaguad...|\n",
      "+--------------------+--------------------+\n",
      "only showing top 20 rows\n",
      "\n"
     ]
    }
   ],
   "source": [
    "cine.show()"
   ]
  },
  {
   "cell_type": "code",
   "execution_count": 14,
   "id": "63530794-7085-4cf0-96c3-bc958b39621f",
   "metadata": {},
   "outputs": [],
   "source": [
    "spark.stop()"
   ]
  }
 ],
 "metadata": {
  "kernelspec": {
   "display_name": "Python 3",
   "language": "python",
   "name": "python3"
  },
  "language_info": {
   "codemirror_mode": {
    "name": "ipython",
    "version": 3
   },
   "file_extension": ".py",
   "mimetype": "text/x-python",
   "name": "python",
   "nbconvert_exporter": "python",
   "pygments_lexer": "ipython3",
   "version": "3.8.8"
  }
 },
 "nbformat": 4,
 "nbformat_minor": 5
}
