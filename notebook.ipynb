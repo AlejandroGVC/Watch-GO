{
 "cells": [
  {
   "cell_type": "code",
   "execution_count": 2,
   "id": "eff8fa87-bed2-414e-b9ff-45d87c591954",
   "metadata": {},
   "outputs": [],
   "source": []
  },
  {
   "cell_type": "code",
   "execution_count": 17,
   "id": "f1e670cf-7f73-4dc9-aedd-157f7058a275",
   "metadata": {},
   "outputs": [],
   "source": [
    "import pandas as pd \n",
    "from pyspark.sql import SparkSession, SQLContext\n",
    "from pyspark import SparkContext\n",
    "spark = SparkSession.builder.appName('watchGo').getOrCreate()"
   ]
  },
  {
   "cell_type": "code",
   "execution_count": 19,
   "id": "4428d9af-f7cd-4168-bb08-4ce662c14198",
   "metadata": {},
   "outputs": [],
   "source": [
    "spark = SparkSession.builder.appName('watchGo').getOrCreate()\n",
    "sqlContext = SQLContext(spark)"
   ]
  },
  {
   "cell_type": "code",
   "execution_count": 20,
   "id": "b55b9b5c-8ac0-4bb9-a735-3432b479588b",
   "metadata": {},
   "outputs": [],
   "source": [
    "df = pd.read_csv('data/justwatch.csv')"
   ]
  },
  {
   "cell_type": "code",
   "execution_count": 22,
   "id": "386d07f2-8548-459a-b148-141c1b86015d",
   "metadata": {},
   "outputs": [],
   "source": [
    "df_spark = sqlContext.createDataFrame(data=df)"
   ]
  },
  {
   "cell_type": "code",
   "execution_count": 26,
   "id": "cf3940f7-eaaa-44f9-918e-d60b41e1bdc3",
   "metadata": {},
   "outputs": [],
   "source": [
    "df_spark.write.csv('hdfs://namenode:8020/justwatch.csv')"
   ]
  },
  {
   "cell_type": "code",
   "execution_count": 28,
   "id": "b9748690-0059-465b-b466-596baa260303",
   "metadata": {},
   "outputs": [
    {
     "name": "stdout",
     "output_type": "stream",
     "text": [
      "+------------------+-----+--------------------+\n",
      "|               _c0|  _c1|                 _c2|\n",
      "+------------------+-----+--------------------+\n",
      "|amazon-prime-video|serie|ataque a los titanes|\n",
      "|amazon-prime-video|serie|    anatomia de grey|\n",
      "|amazon-prime-video|serie|               merli|\n",
      "|amazon-prime-video|serie|          this is us|\n",
      "|amazon-prime-video|serie|            vikingos|\n",
      "+------------------+-----+--------------------+\n",
      "only showing top 5 rows\n",
      "\n"
     ]
    }
   ],
   "source": [
    "df_spark_read = spark.read.csv('hdfs://namenode:8020/justwatch.csv')\n",
    "df_spark_read.show(5)"
   ]
  }
 ],
 "metadata": {
  "kernelspec": {
   "display_name": "Python 3",
   "language": "python",
   "name": "python3"
  },
  "language_info": {
   "codemirror_mode": {
    "name": "ipython",
    "version": 3
   },
   "file_extension": ".py",
   "mimetype": "text/x-python",
   "name": "python",
   "nbconvert_exporter": "python",
   "pygments_lexer": "ipython3",
   "version": "3.8.8"
  }
 },
 "nbformat": 4,
 "nbformat_minor": 5
}
