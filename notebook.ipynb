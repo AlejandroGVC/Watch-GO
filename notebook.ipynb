{
 "cells": [
  {
   "cell_type": "code",
   "execution_count": 1,
   "id": "f1e670cf-7f73-4dc9-aedd-157f7058a275",
   "metadata": {},
   "outputs": [],
   "source": [
    "import pandas as pd \n",
    "from pyspark.sql import SparkSession, SQLContext\n",
    "from pyspark import SparkContext\n",
    "from pyspark.sql import functions as F\n",
    "spark = SparkSession.builder.appName('watchGo').getOrCreate()\n",
    "sqlContext = SQLContext(spark)"
   ]
  },
  {
   "cell_type": "code",
   "execution_count": 14,
   "id": "0dbf6f48-4efb-44a9-9177-c1f12d41bc09",
   "metadata": {},
   "outputs": [],
   "source": [
    "def df_hdfs_spark(data, str_):\n",
    "    '''\n",
    "    Crea un dataframe de spark a partir de uno de pandas,\n",
    "    lo escribe en un datalake de hdfs y lo vuelve a leer y guarda; \n",
    "    usando el formato parquet guarda el esquema\n",
    "    Parámetros: un pandas dataframe y un str para darle al archivo parquet\n",
    "    '''\n",
    "    path = 'hdfs://namenode:8020/datalake' + str_ + '.parquet'\n",
    "    df_spark = sqlContext.createDataFrame(data=data) #pd.dataframe --> spark\n",
    "    df_spark.write.parquet(path, mode = 'overwrite') #spark --> hdfs  ojo con el parametro mode!!\n",
    "    return spark.read.parquet(path) #hdfs --> spark"
   ]
  },
  {
   "cell_type": "code",
   "execution_count": 15,
   "id": "b55b9b5c-8ac0-4bb9-a735-3432b479588b",
   "metadata": {},
   "outputs": [],
   "source": [
    "#lectura de bases de datos\n",
    "justwatch = pd.read_csv('data/just-watch.csv')\n",
    "#imdb = pd.read_csv('data/IMDb movies.csv')\n",
    "filmaffinity = pd.read_csv('data/filmaffinity.csv')"
   ]
  },
  {
   "cell_type": "code",
   "execution_count": 16,
   "id": "60a44ff9-10e0-4181-860c-f0dbfc42777f",
   "metadata": {},
   "outputs": [],
   "source": [
    "jw = df_hdfs_spark(justwatch, 'jw')"
   ]
  },
  {
   "cell_type": "code",
   "execution_count": 17,
   "id": "3e3b2382-eeea-41ab-91bd-37726376231a",
   "metadata": {},
   "outputs": [
    {
     "name": "stdout",
     "output_type": "stream",
     "text": [
      "+----------+--------+--------------------+\n",
      "|Plataforma|    Tipo|              Titulo|\n",
      "+----------+--------+--------------------+\n",
      "|   netflix|pelicula|        coach carter|\n",
      "|   netflix|pelicula|im thinking of en...|\n",
      "|   netflix|pelicula|         i am mother|\n",
      "|   netflix|pelicula|un franco 14 pesetas|\n",
      "|   netflix|   serie|las escalofriante...|\n",
      "|   netflix|   serie|             dracula|\n",
      "|   netflix|pelicula|        ahora me ves|\n",
      "|   netflix|   serie|         outer banks|\n",
      "|   netflix|   serie|       dawsons creek|\n",
      "|   netflix|   serie|         white lines|\n",
      "|   netflix|pelicula|         soy leyenda|\n",
      "|   netflix|pelicula|regreso al futuro ii|\n",
      "|   netflix|pelicula|the block island ...|\n",
      "|   netflix|pelicula|         plan oculto|\n",
      "|   netflix|pelicula|         mollys game|\n",
      "|   netflix|   serie|          sweet home|\n",
      "|   netflix|pelicula|como entrenar a t...|\n",
      "|   netflix|   serie|                brot|\n",
      "|   netflix|pelicula|            kin 2018|\n",
      "|   netflix|   serie|    ash vs evil dead|\n",
      "+----------+--------+--------------------+\n",
      "only showing top 20 rows\n",
      "\n"
     ]
    }
   ],
   "source": [
    "jw.show()"
   ]
  },
  {
   "cell_type": "code",
   "execution_count": 18,
   "id": "2ddaa8f2-7ba3-42b4-9792-bf851c532b6b",
   "metadata": {},
   "outputs": [
    {
     "name": "stdout",
     "output_type": "stream",
     "text": [
      "+------------------+\n",
      "|        Plataforma|\n",
      "+------------------+\n",
      "|           netflix|\n",
      "|               hbo|\n",
      "|       disney-plus|\n",
      "|amazon-prime-video|\n",
      "+------------------+\n",
      "\n"
     ]
    }
   ],
   "source": [
    "jw.select(F.col('Plataforma')).distinct().show()"
   ]
  },
  {
   "cell_type": "code",
   "execution_count": 19,
   "id": "7e4cf67f-f5bd-4efe-b381-dafac90984ca",
   "metadata": {},
   "outputs": [
    {
     "name": "stdout",
     "output_type": "stream",
     "text": [
      "+----------+-----+---------------+\n",
      "|Plataforma| Tipo|         Titulo|\n",
      "+----------+-----+---------------+\n",
      "|   netflix|serie|stranger things|\n",
      "+----------+-----+---------------+\n",
      "\n"
     ]
    }
   ],
   "source": [
    "jw.filter(F.col('Titulo') == 'stranger things').show()"
   ]
  },
  {
   "cell_type": "code",
   "execution_count": 20,
   "id": "2728f1ab-15b9-43d9-be56-025dacfe6e3d",
   "metadata": {},
   "outputs": [],
   "source": [
    "cine = df_hdfs_spark(filmaffinity, 'cine')"
   ]
  },
  {
   "cell_type": "code",
   "execution_count": 21,
   "id": "0b433186-9dbf-4f02-a845-686c7da06509",
   "metadata": {},
   "outputs": [
    {
     "name": "stdout",
     "output_type": "stream",
     "text": [
      "+--------------------+--------------------+\n",
      "|            Pelicula|               Cines|\n",
      "+--------------------+--------------------+\n",
      "|      Mortal Kombat |['Cines La Vaguad...|\n",
      "|Una joven promete...|['Cines Embajador...|\n",
      "|¡Upsss 2! ¿Y ahor...|['Cines La Vaguad...|\n",
      "|Una veterinaria e...|['Cinesa Las Roza...|\n",
      "|Detective Conan: ...|                  []|\n",
      "|Crock of Gold: Be...|                  []|\n",
      "| Amanece en Calcuta |['Cines La Vaguad...|\n",
      "|         Otra ronda |['Cines Embajador...|\n",
      "|            Cuñados |['Cinesa La Gavia...|\n",
      "|               Vivo |['Cines La Vaguad...|\n",
      "| Ruega por nosotros |['Cinesa  Xanadú'...|\n",
      "|  Godzilla vs. Kong |['Cines La Vaguad...|\n",
      "|          Nomadland |['Cines Embajador...|\n",
      "|        Tom y Jerry |['Cinesa  Xanadú'...|\n",
      "|     Monster Hunter | ['Cinesa La Gavia']|\n",
      "|             Inmune |  ['Cinesa Loranca']|\n",
      "|    Los traductores |['Cinesa Las Roza...|\n",
      "|El informe Auschw...|                  []|\n",
      "|     El agente topo |['Renoir Plaza Es...|\n",
      "|Minari. Historia ...|['Cines Verdi', '...|\n",
      "+--------------------+--------------------+\n",
      "only showing top 20 rows\n",
      "\n"
     ]
    }
   ],
   "source": [
    "cine.show()"
   ]
  },
  {
   "cell_type": "code",
   "execution_count": 41,
   "id": "0d88bd6c-10e5-4236-8332-746537817f54",
   "metadata": {},
   "outputs": [],
   "source": [
    "ls_cines = cine.select(F.col('Cines')).filter(F.col('Pelicula') == 'Mortal Kombat ')"
   ]
  },
  {
   "cell_type": "code",
   "execution_count": 26,
   "id": "abc7ef6f-a45a-4781-a0d1-d7e26d84dc1e",
   "metadata": {},
   "outputs": [
    {
     "name": "stdout",
     "output_type": "stream",
     "text": [
      "+--------------------+\n",
      "|               Cines|\n",
      "+--------------------+\n",
      "|['Cines La Vaguad...|\n",
      "+--------------------+\n",
      "\n"
     ]
    }
   ],
   "source": [
    "ls_cines.show()"
   ]
  },
  {
   "cell_type": "code",
   "execution_count": 42,
   "id": "3624a80d-85a4-42b4-86b2-ad4d7a4c77c6",
   "metadata": {},
   "outputs": [],
   "source": [
    "ls_cines = ls_cines.select(F.split(F.col('Cines'), ',').alias('listado')).drop('Cines')"
   ]
  },
  {
   "cell_type": "code",
   "execution_count": 43,
   "id": "f179e053-8cbd-43c2-86e9-af341f3fe0da",
   "metadata": {},
   "outputs": [
    {
     "name": "stdout",
     "output_type": "stream",
     "text": [
      "+--------------------+\n",
      "|             listado|\n",
      "+--------------------+\n",
      "|[['Cines La Vagua...|\n",
      "+--------------------+\n",
      "\n"
     ]
    }
   ],
   "source": [
    "ls_cines.show()"
   ]
  },
  {
   "cell_type": "code",
   "execution_count": 44,
   "id": "384647da-1b7f-403a-9eb1-2997d08aa280",
   "metadata": {},
   "outputs": [
    {
     "name": "stdout",
     "output_type": "stream",
     "text": [
      "root\n",
      " |-- listado: array (nullable = true)\n",
      " |    |-- element: string (containsNull = true)\n",
      "\n"
     ]
    }
   ],
   "source": [
    "ls_cines.printSchema()"
   ]
  },
  {
   "cell_type": "code",
   "execution_count": 46,
   "id": "113529e3-038a-402c-a3a5-b4ea634f4a41",
   "metadata": {},
   "outputs": [
    {
     "name": "stdout",
     "output_type": "stream",
     "text": [
      "+--------------------+\n",
      "|             listado|\n",
      "+--------------------+\n",
      "|[['Cines La Vagua...|\n",
      "+--------------------+\n",
      "\n"
     ]
    }
   ],
   "source": [
    "ls_cines.show()"
   ]
  },
  {
   "cell_type": "code",
   "execution_count": 14,
   "id": "63530794-7085-4cf0-96c3-bc958b39621f",
   "metadata": {},
   "outputs": [],
   "source": [
    "spark.stop()"
   ]
  }
 ],
 "metadata": {
  "kernelspec": {
   "display_name": "Python 3",
   "language": "python",
   "name": "python3"
  },
  "language_info": {
   "codemirror_mode": {
    "name": "ipython",
    "version": 3
   },
   "file_extension": ".py",
   "mimetype": "text/x-python",
   "name": "python",
   "nbconvert_exporter": "python",
   "pygments_lexer": "ipython3",
   "version": "3.8.8"
  }
 },
 "nbformat": 4,
 "nbformat_minor": 5
}
